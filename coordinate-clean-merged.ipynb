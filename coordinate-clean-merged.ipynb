{
 "cells": [
  {
   "cell_type": "code",
   "execution_count": 1,
   "metadata": {},
   "outputs": [
    {
     "name": "stderr",
     "output_type": "stream",
     "text": [
      "/Users/davidleifer/anaconda/lib/python3.5/site-packages/nltk/twitter/__init__.py:20: UserWarning: The twython library has not been installed. Some functionality from the twitter package will not be available.\n",
      "  warnings.warn(\"The twython library has not been installed. \"\n"
     ]
    }
   ],
   "source": [
    "import os\n",
    "import time\n",
    "import datetime\n",
    "\n",
    "from collections import Counter\n",
    "import numpy as np\n",
    "import pandas as pd\n",
    "import unicodedata\n",
    "\n",
    "from nltk.corpus import stopwords\n",
    "from nltk.corpus import subjectivity\n",
    "from nltk.sentiment import SentimentAnalyzer\n",
    "from nltk.sentiment.util import *\n",
    "from nltk.sentiment.vader import SentimentIntensityAnalyzer"
   ]
  },
  {
   "cell_type": "code",
   "execution_count": 2,
   "metadata": {
    "collapsed": true
   },
   "outputs": [],
   "source": [
    "data = '/Users/davidleifer/Downloads/bayes/merged.json'\n",
    "df = pd.read_json(data, lines=True)"
   ]
  },
  {
   "cell_type": "code",
   "execution_count": 3,
   "metadata": {
    "collapsed": true
   },
   "outputs": [],
   "source": [
    "filename = '/Users/davidleifer/Downloads/bayes/merged_csv.csv'\n",
    "\n",
    "df.to_csv(filename, index=False, encoding='utf-8')"
   ]
  },
  {
   "cell_type": "code",
   "execution_count": 4,
   "metadata": {},
   "outputs": [
    {
     "name": "stderr",
     "output_type": "stream",
     "text": [
      "/Users/davidleifer/anaconda/lib/python3.5/site-packages/IPython/core/interactiveshell.py:2723: DtypeWarning: Columns (0,1,2,3,4,5,6,9,10,13,19,20,21,23,28,29,30,31,33,34) have mixed types. Specify dtype option on import or set low_memory=False.\n",
      "  interactivity=interactivity, compiler=compiler, result=result)\n"
     ]
    }
   ],
   "source": [
    "tweets = pd.read_csv('/Users/davidleifer/Downloads/bayes/merged_csv.csv')"
   ]
  },
  {
   "cell_type": "code",
   "execution_count": 5,
   "metadata": {},
   "outputs": [
    {
     "name": "stderr",
     "output_type": "stream",
     "text": [
      "/Users/davidleifer/anaconda/lib/python3.5/site-packages/ipykernel/__main__.py:1: FutureWarning: currently extract(expand=None) means expand=False (return Index/Series/DataFrame) but in a future version of pandas this will be changed to expand=True (return DataFrame)\n",
      "  if __name__ == '__main__':\n"
     ]
    }
   ],
   "source": [
    "tweets['geo'] = tweets['geo'].str.extract('.*\\[(.*)\\].*')"
   ]
  },
  {
   "cell_type": "code",
   "execution_count": 6,
   "metadata": {
    "collapsed": true
   },
   "outputs": [],
   "source": [
    "tweets['y'], tweets['x'] = tweets['geo'].str.split(',', 1).str"
   ]
  },
  {
   "cell_type": "code",
   "execution_count": 7,
   "metadata": {
    "collapsed": true
   },
   "outputs": [],
   "source": [
    "df = tweets"
   ]
  },
  {
   "cell_type": "code",
   "execution_count": 8,
   "metadata": {
    "collapsed": true
   },
   "outputs": [],
   "source": [
    "df = df[df['text'].notnull()]"
   ]
  },
  {
   "cell_type": "code",
   "execution_count": 9,
   "metadata": {},
   "outputs": [
    {
     "name": "stderr",
     "output_type": "stream",
     "text": [
      "/Users/davidleifer/anaconda/lib/python3.5/site-packages/ipykernel/__main__.py:2: SettingWithCopyWarning: \n",
      "A value is trying to be set on a copy of a slice from a DataFrame.\n",
      "Try using .loc[row_indexer,col_indexer] = value instead\n",
      "\n",
      "See the caveats in the documentation: http://pandas.pydata.org/pandas-docs/stable/indexing.html#indexing-view-versus-copy\n",
      "  from ipykernel import kernelapp as app\n"
     ]
    }
   ],
   "source": [
    "stop = stopwords.words('english')\n",
    "df['tweet_without_stopwords'] = df['text'].apply(lambda x: ' '.join([word for word in x.split() if word not in (stop)]))"
   ]
  },
  {
   "cell_type": "code",
   "execution_count": 10,
   "metadata": {},
   "outputs": [
    {
     "name": "stderr",
     "output_type": "stream",
     "text": [
      "/Users/davidleifer/anaconda/lib/python3.5/site-packages/ipykernel/__main__.py:2: SettingWithCopyWarning: \n",
      "A value is trying to be set on a copy of a slice from a DataFrame.\n",
      "Try using .loc[row_indexer,col_indexer] = value instead\n",
      "\n",
      "See the caveats in the documentation: http://pandas.pydata.org/pandas-docs/stable/indexing.html#indexing-view-versus-copy\n",
      "  from ipykernel import kernelapp as app\n"
     ]
    }
   ],
   "source": [
    "stop =  ['The','RT','&amp;', '-', 'A', 'https:', '.', '2']\n",
    "df['tweet_without_stopwords'] = df['tweet_without_stopwords'].apply(lambda x: ' '.join([word for word in x.split() if word not in (stop)]))"
   ]
  },
  {
   "cell_type": "code",
   "execution_count": 11,
   "metadata": {},
   "outputs": [
    {
     "name": "stderr",
     "output_type": "stream",
     "text": [
      "/Users/davidleifer/anaconda/lib/python3.5/site-packages/ipykernel/__main__.py:2: SettingWithCopyWarning: \n",
      "A value is trying to be set on a copy of a slice from a DataFrame.\n",
      "Try using .loc[row_indexer,col_indexer] = value instead\n",
      "\n",
      "See the caveats in the documentation: http://pandas.pydata.org/pandas-docs/stable/indexing.html#indexing-view-versus-copy\n",
      "  from ipykernel import kernelapp as app\n",
      "/Users/davidleifer/anaconda/lib/python3.5/site-packages/ipykernel/__main__.py:4: SettingWithCopyWarning: \n",
      "A value is trying to be set on a copy of a slice from a DataFrame.\n",
      "Try using .loc[row_indexer,col_indexer] = value instead\n",
      "\n",
      "See the caveats in the documentation: http://pandas.pydata.org/pandas-docs/stable/indexing.html#indexing-view-versus-copy\n",
      "/Users/davidleifer/anaconda/lib/python3.5/site-packages/ipykernel/__main__.py:6: SettingWithCopyWarning: \n",
      "A value is trying to be set on a copy of a slice from a DataFrame.\n",
      "Try using .loc[row_indexer,col_indexer] = value instead\n",
      "\n",
      "See the caveats in the documentation: http://pandas.pydata.org/pandas-docs/stable/indexing.html#indexing-view-versus-copy\n",
      "/Users/davidleifer/anaconda/lib/python3.5/site-packages/ipykernel/__main__.py:8: SettingWithCopyWarning: \n",
      "A value is trying to be set on a copy of a slice from a DataFrame.\n",
      "Try using .loc[row_indexer,col_indexer] = value instead\n",
      "\n",
      "See the caveats in the documentation: http://pandas.pydata.org/pandas-docs/stable/indexing.html#indexing-view-versus-copy\n"
     ]
    }
   ],
   "source": [
    "#remove periods\n",
    "df['tweet_without_stopwords'] = df['tweet_without_stopwords'].str.replace('[\\.]','')\n",
    "#remove commas\n",
    "df['tweet_without_stopwords'] = df['tweet_without_stopwords'].str.replace('[\\,]','')\n",
    "#remove -\n",
    "df['tweet_without_stopwords'] = df['tweet_without_stopwords'].str.replace('[-]','')\n",
    "#remove @\n",
    "df['tweet_without_stopwords'] = df['tweet_without_stopwords'].str.replace('[@]','')"
   ]
  },
  {
   "cell_type": "code",
   "execution_count": 12,
   "metadata": {},
   "outputs": [
    {
     "data": {
      "text/html": [
       "<div>\n",
       "<table border=\"1\" class=\"dataframe\">\n",
       "  <thead>\n",
       "    <tr style=\"text-align: right;\">\n",
       "      <th></th>\n",
       "      <th>contributors</th>\n",
       "      <th>coordinates</th>\n",
       "      <th>created_at</th>\n",
       "      <th>display_text_range</th>\n",
       "      <th>entities</th>\n",
       "      <th>extended_entities</th>\n",
       "      <th>extended_tweet</th>\n",
       "      <th>favorite_count</th>\n",
       "      <th>favorited</th>\n",
       "      <th>filter_level</th>\n",
       "      <th>...</th>\n",
       "      <th>retweeted_status</th>\n",
       "      <th>source</th>\n",
       "      <th>text</th>\n",
       "      <th>timestamp_ms</th>\n",
       "      <th>truncated</th>\n",
       "      <th>user</th>\n",
       "      <th>withheld_in_countries</th>\n",
       "      <th>y</th>\n",
       "      <th>x</th>\n",
       "      <th>tweet_without_stopwords</th>\n",
       "    </tr>\n",
       "  </thead>\n",
       "  <tbody>\n",
       "    <tr>\n",
       "      <th>0</th>\n",
       "      <td>NaN</td>\n",
       "      <td>NaN</td>\n",
       "      <td>2017-08-02 02:53:46.000</td>\n",
       "      <td>NaN</td>\n",
       "      <td>{'hashtags': [{'indices': [26, 35], 'text': 'B...</td>\n",
       "      <td>NaN</td>\n",
       "      <td>NaN</td>\n",
       "      <td>0.0</td>\n",
       "      <td>0.0</td>\n",
       "      <td>low</td>\n",
       "      <td>...</td>\n",
       "      <td>{'created_at': 'Wed Aug 02 00:10:02 +0000 2017...</td>\n",
       "      <td>&lt;a href=\"http://twitter.com/download/android\" ...</td>\n",
       "      <td>RT @Beluga_Solar: Keep ur #Business costs down...</td>\n",
       "      <td>2017-08-02 02:53:46.798</td>\n",
       "      <td>0.0</td>\n",
       "      <td>{'created_at': 'Fri Jul 28 16:49:42 +0000 2017...</td>\n",
       "      <td>NaN</td>\n",
       "      <td>NaN</td>\n",
       "      <td>NaN</td>\n",
       "      <td>Beluga_Solar: Keep ur #Business costs installi...</td>\n",
       "    </tr>\n",
       "    <tr>\n",
       "      <th>1</th>\n",
       "      <td>NaN</td>\n",
       "      <td>NaN</td>\n",
       "      <td>2017-08-02 02:53:48.000</td>\n",
       "      <td>NaN</td>\n",
       "      <td>{'hashtags': [{'indices': [70, 76], 'text': 's...</td>\n",
       "      <td>NaN</td>\n",
       "      <td>NaN</td>\n",
       "      <td>0.0</td>\n",
       "      <td>0.0</td>\n",
       "      <td>low</td>\n",
       "      <td>...</td>\n",
       "      <td>{'created_at': 'Wed Aug 02 02:00:07 +0000 2017...</td>\n",
       "      <td>&lt;a href=\"http://twitter.com/download/android\" ...</td>\n",
       "      <td>RT @Beluga_Solar: We have a selection of Proje...</td>\n",
       "      <td>2017-08-02 02:53:48.072</td>\n",
       "      <td>0.0</td>\n",
       "      <td>{'created_at': 'Wed Feb 22 07:02:34 +0000 2017...</td>\n",
       "      <td>NaN</td>\n",
       "      <td>NaN</td>\n",
       "      <td>NaN</td>\n",
       "      <td>Beluga_Solar: We selection Project Lamps ready...</td>\n",
       "    </tr>\n",
       "    <tr>\n",
       "      <th>2</th>\n",
       "      <td>NaN</td>\n",
       "      <td>NaN</td>\n",
       "      <td>2017-08-02 02:53:50.000</td>\n",
       "      <td>NaN</td>\n",
       "      <td>{'hashtags': [{'indices': [70, 76], 'text': 's...</td>\n",
       "      <td>NaN</td>\n",
       "      <td>NaN</td>\n",
       "      <td>0.0</td>\n",
       "      <td>0.0</td>\n",
       "      <td>low</td>\n",
       "      <td>...</td>\n",
       "      <td>{'created_at': 'Wed Aug 02 02:00:07 +0000 2017...</td>\n",
       "      <td>&lt;a href=\"http://twitter.com/download/android\" ...</td>\n",
       "      <td>RT @Beluga_Solar: We have a selection of Proje...</td>\n",
       "      <td>2017-08-02 02:53:50.492</td>\n",
       "      <td>0.0</td>\n",
       "      <td>{'created_at': 'Sat Jun 17 09:06:20 +0000 2017...</td>\n",
       "      <td>NaN</td>\n",
       "      <td>NaN</td>\n",
       "      <td>NaN</td>\n",
       "      <td>Beluga_Solar: We selection Project Lamps ready...</td>\n",
       "    </tr>\n",
       "    <tr>\n",
       "      <th>3</th>\n",
       "      <td>NaN</td>\n",
       "      <td>NaN</td>\n",
       "      <td>2017-08-02 02:53:50.000</td>\n",
       "      <td>NaN</td>\n",
       "      <td>{'hashtags': [{'indices': [18, 24], 'text': 'S...</td>\n",
       "      <td>NaN</td>\n",
       "      <td>NaN</td>\n",
       "      <td>0.0</td>\n",
       "      <td>0.0</td>\n",
       "      <td>low</td>\n",
       "      <td>...</td>\n",
       "      <td>{'created_at': 'Wed Aug 02 02:00:22 +0000 2017...</td>\n",
       "      <td>&lt;a href=\"http://twitter.com\" rel=\"nofollow\"&gt;Tw...</td>\n",
       "      <td>RT @Beluga_Solar: #Solar Speed Checking Light,...</td>\n",
       "      <td>2017-08-02 02:53:50.867</td>\n",
       "      <td>0.0</td>\n",
       "      <td>{'created_at': 'Wed Aug 02 02:20:21 +0000 2017...</td>\n",
       "      <td>NaN</td>\n",
       "      <td>NaN</td>\n",
       "      <td>NaN</td>\n",
       "      <td>Beluga_Solar: #Solar Speed Checking Light Wide...</td>\n",
       "    </tr>\n",
       "    <tr>\n",
       "      <th>4</th>\n",
       "      <td>NaN</td>\n",
       "      <td>NaN</td>\n",
       "      <td>2017-08-02 02:53:51.000</td>\n",
       "      <td>NaN</td>\n",
       "      <td>{'hashtags': [{'indices': [70, 76], 'text': 's...</td>\n",
       "      <td>NaN</td>\n",
       "      <td>NaN</td>\n",
       "      <td>0.0</td>\n",
       "      <td>0.0</td>\n",
       "      <td>low</td>\n",
       "      <td>...</td>\n",
       "      <td>{'created_at': 'Wed Aug 02 02:00:07 +0000 2017...</td>\n",
       "      <td>&lt;a href=\"http://twitter.com/download/android\" ...</td>\n",
       "      <td>RT @Beluga_Solar: We have a selection of Proje...</td>\n",
       "      <td>2017-08-02 02:53:51.142</td>\n",
       "      <td>0.0</td>\n",
       "      <td>{'created_at': 'Fri Jul 28 17:21:49 +0000 2017...</td>\n",
       "      <td>NaN</td>\n",
       "      <td>NaN</td>\n",
       "      <td>NaN</td>\n",
       "      <td>Beluga_Solar: We selection Project Lamps ready...</td>\n",
       "    </tr>\n",
       "  </tbody>\n",
       "</table>\n",
       "<p>5 rows × 38 columns</p>\n",
       "</div>"
      ],
      "text/plain": [
       "  contributors coordinates               created_at display_text_range  \\\n",
       "0          NaN         NaN  2017-08-02 02:53:46.000                NaN   \n",
       "1          NaN         NaN  2017-08-02 02:53:48.000                NaN   \n",
       "2          NaN         NaN  2017-08-02 02:53:50.000                NaN   \n",
       "3          NaN         NaN  2017-08-02 02:53:50.000                NaN   \n",
       "4          NaN         NaN  2017-08-02 02:53:51.000                NaN   \n",
       "\n",
       "                                            entities extended_entities  \\\n",
       "0  {'hashtags': [{'indices': [26, 35], 'text': 'B...               NaN   \n",
       "1  {'hashtags': [{'indices': [70, 76], 'text': 's...               NaN   \n",
       "2  {'hashtags': [{'indices': [70, 76], 'text': 's...               NaN   \n",
       "3  {'hashtags': [{'indices': [18, 24], 'text': 'S...               NaN   \n",
       "4  {'hashtags': [{'indices': [70, 76], 'text': 's...               NaN   \n",
       "\n",
       "  extended_tweet  favorite_count  favorited filter_level  \\\n",
       "0            NaN             0.0        0.0          low   \n",
       "1            NaN             0.0        0.0          low   \n",
       "2            NaN             0.0        0.0          low   \n",
       "3            NaN             0.0        0.0          low   \n",
       "4            NaN             0.0        0.0          low   \n",
       "\n",
       "                         ...                          \\\n",
       "0                        ...                           \n",
       "1                        ...                           \n",
       "2                        ...                           \n",
       "3                        ...                           \n",
       "4                        ...                           \n",
       "\n",
       "                                    retweeted_status  \\\n",
       "0  {'created_at': 'Wed Aug 02 00:10:02 +0000 2017...   \n",
       "1  {'created_at': 'Wed Aug 02 02:00:07 +0000 2017...   \n",
       "2  {'created_at': 'Wed Aug 02 02:00:07 +0000 2017...   \n",
       "3  {'created_at': 'Wed Aug 02 02:00:22 +0000 2017...   \n",
       "4  {'created_at': 'Wed Aug 02 02:00:07 +0000 2017...   \n",
       "\n",
       "                                              source  \\\n",
       "0  <a href=\"http://twitter.com/download/android\" ...   \n",
       "1  <a href=\"http://twitter.com/download/android\" ...   \n",
       "2  <a href=\"http://twitter.com/download/android\" ...   \n",
       "3  <a href=\"http://twitter.com\" rel=\"nofollow\">Tw...   \n",
       "4  <a href=\"http://twitter.com/download/android\" ...   \n",
       "\n",
       "                                                text             timestamp_ms  \\\n",
       "0  RT @Beluga_Solar: Keep ur #Business costs down...  2017-08-02 02:53:46.798   \n",
       "1  RT @Beluga_Solar: We have a selection of Proje...  2017-08-02 02:53:48.072   \n",
       "2  RT @Beluga_Solar: We have a selection of Proje...  2017-08-02 02:53:50.492   \n",
       "3  RT @Beluga_Solar: #Solar Speed Checking Light,...  2017-08-02 02:53:50.867   \n",
       "4  RT @Beluga_Solar: We have a selection of Proje...  2017-08-02 02:53:51.142   \n",
       "\n",
       "   truncated                                               user  \\\n",
       "0        0.0  {'created_at': 'Fri Jul 28 16:49:42 +0000 2017...   \n",
       "1        0.0  {'created_at': 'Wed Feb 22 07:02:34 +0000 2017...   \n",
       "2        0.0  {'created_at': 'Sat Jun 17 09:06:20 +0000 2017...   \n",
       "3        0.0  {'created_at': 'Wed Aug 02 02:20:21 +0000 2017...   \n",
       "4        0.0  {'created_at': 'Fri Jul 28 17:21:49 +0000 2017...   \n",
       "\n",
       "   withheld_in_countries    y    x  \\\n",
       "0                    NaN  NaN  NaN   \n",
       "1                    NaN  NaN  NaN   \n",
       "2                    NaN  NaN  NaN   \n",
       "3                    NaN  NaN  NaN   \n",
       "4                    NaN  NaN  NaN   \n",
       "\n",
       "                             tweet_without_stopwords  \n",
       "0  Beluga_Solar: Keep ur #Business costs installi...  \n",
       "1  Beluga_Solar: We selection Project Lamps ready...  \n",
       "2  Beluga_Solar: We selection Project Lamps ready...  \n",
       "3  Beluga_Solar: #Solar Speed Checking Light Wide...  \n",
       "4  Beluga_Solar: We selection Project Lamps ready...  \n",
       "\n",
       "[5 rows x 38 columns]"
      ]
     },
     "execution_count": 12,
     "metadata": {},
     "output_type": "execute_result"
    }
   ],
   "source": [
    "df.head()"
   ]
  },
  {
   "cell_type": "code",
   "execution_count": 13,
   "metadata": {},
   "outputs": [
    {
     "name": "stderr",
     "output_type": "stream",
     "text": [
      "/Users/davidleifer/anaconda/lib/python3.5/site-packages/ipykernel/__main__.py:1: SettingWithCopyWarning: \n",
      "A value is trying to be set on a copy of a slice from a DataFrame.\n",
      "Try using .loc[row_indexer,col_indexer] = value instead\n",
      "\n",
      "See the caveats in the documentation: http://pandas.pydata.org/pandas-docs/stable/indexing.html#indexing-view-versus-copy\n",
      "  if __name__ == '__main__':\n",
      "/Users/davidleifer/anaconda/lib/python3.5/site-packages/ipykernel/__main__.py:2: SettingWithCopyWarning: \n",
      "A value is trying to be set on a copy of a slice from a DataFrame.\n",
      "Try using .loc[row_indexer,col_indexer] = value instead\n",
      "\n",
      "See the caveats in the documentation: http://pandas.pydata.org/pandas-docs/stable/indexing.html#indexing-view-versus-copy\n",
      "  from ipykernel import kernelapp as app\n",
      "/Users/davidleifer/anaconda/lib/python3.5/site-packages/ipykernel/__main__.py:3: SettingWithCopyWarning: \n",
      "A value is trying to be set on a copy of a slice from a DataFrame.\n",
      "Try using .loc[row_indexer,col_indexer] = value instead\n",
      "\n",
      "See the caveats in the documentation: http://pandas.pydata.org/pandas-docs/stable/indexing.html#indexing-view-versus-copy\n",
      "  app.launch_new_instance()\n",
      "/Users/davidleifer/anaconda/lib/python3.5/site-packages/ipykernel/__main__.py:4: SettingWithCopyWarning: \n",
      "A value is trying to be set on a copy of a slice from a DataFrame.\n",
      "Try using .loc[row_indexer,col_indexer] = value instead\n",
      "\n",
      "See the caveats in the documentation: http://pandas.pydata.org/pandas-docs/stable/indexing.html#indexing-view-versus-copy\n"
     ]
    }
   ],
   "source": [
    "df[\"compound\"] = ''\n",
    "df[\"neg\"] = ''\n",
    "df[\"neu\"] = ''\n",
    "df[\"pos\"] = ''\n",
    "sid = SentimentIntensityAnalyzer()\n",
    "    \n",
    "for user, row in df.T.iteritems():\n",
    "    try:\n",
    "        sentence = unicodedata.normalize('NFKD', df.loc[user, 'tweet_without_stopwords'])\n",
    "        ss = sid.polarity_scores(sentence)\n",
    "        df.set_value(user, 'compound', ss['compound'])\n",
    "        df.set_value(user, 'neg', ss['neg'])\n",
    "        df.set_value(user, 'neu', ss['neu'])\n",
    "        df.set_value(user, 'pos', ss['pos'])\n",
    "    except TypeError:\n",
    "        print(df.loc[user, 'tweet_without_stopwords'])"
   ]
  },
  {
   "cell_type": "code",
   "execution_count": 14,
   "metadata": {
    "collapsed": true
   },
   "outputs": [],
   "source": [
    "filename = '/Users/davidleifer/Downloads/bayes/merged_geo_csv.csv'\n",
    "\n",
    "df.to_csv(filename, index=False, encoding='utf-8')"
   ]
  },
  {
   "cell_type": "code",
   "execution_count": null,
   "metadata": {
    "collapsed": true
   },
   "outputs": [],
   "source": []
  }
 ],
 "metadata": {
  "anaconda-cloud": {},
  "kernelspec": {
   "display_name": "Python [Root]",
   "language": "python",
   "name": "Python [Root]"
  },
  "language_info": {
   "codemirror_mode": {
    "name": "ipython",
    "version": 3
   },
   "file_extension": ".py",
   "mimetype": "text/x-python",
   "name": "python",
   "nbconvert_exporter": "python",
   "pygments_lexer": "ipython3",
   "version": "3.5.2"
  }
 },
 "nbformat": 4,
 "nbformat_minor": 1
}
